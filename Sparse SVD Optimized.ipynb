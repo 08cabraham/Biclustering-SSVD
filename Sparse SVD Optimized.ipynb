{
 "cells": [
  {
   "cell_type": "markdown",
   "metadata": {
    "deletable": true,
    "editable": true
   },
   "source": [
    "# Implementation of the sparse SVD\n",
    "### Note: the first version of the function that works just like matlab runs in 3 min, 21 sec for best of 1 loop. Matlab = 89 seconds. \n",
    "## Final python optimized version = 38.9 seconds!!!"
   ]
  },
  {
   "cell_type": "code",
   "execution_count": 1,
   "metadata": {
    "collapsed": false,
    "deletable": true,
    "editable": true
   },
   "outputs": [],
   "source": [
    "import pandas as pd\n",
    "import numpy as np\n",
    "from numba import jit\n",
    "%load_ext line_profiler"
   ]
  },
  {
   "cell_type": "code",
   "execution_count": 2,
   "metadata": {
    "collapsed": false,
    "deletable": true,
    "editable": true
   },
   "outputs": [],
   "source": [
    "#Load in data\n",
    "X = np.loadtxt('data.txt')"
   ]
  },
  {
   "cell_type": "code",
   "execution_count": 3,
   "metadata": {
    "collapsed": true,
    "deletable": true,
    "editable": true
   },
   "outputs": [],
   "source": [
    "@jit(nopython=True)\n",
    "def gt(a, b):\n",
    "    '''\n",
    "    a and b must be the same length\n",
    "    '''\n",
    "    result = np.zeros(len(a),dtype=np.float64)\n",
    "    for i in range(len(a)):\n",
    "        result[i] = a[i] >= b[i]\n",
    "    return result"
   ]
  },
  {
   "cell_type": "code",
   "execution_count": 4,
   "metadata": {
    "collapsed": true,
    "deletable": true,
    "editable": true
   },
   "outputs": [],
   "source": [
    "@jit(nopython=True)\n",
    "def updateU(Bu,tmpI,n,d,ru,tu,winu,z,X,v1,sigsq):\n",
    "    for i in range(0,ru):\n",
    "        luc = tu[tmpI[i]]\n",
    "        paralambda = luc/winu[winu!=0]\n",
    "        \n",
    "        tmp= np.multiply(np.sign(z[winu!=0]),gt(np.abs(z[winu!=0]),paralambda))  \n",
    "        uc = np.multiply(tmp, np.abs(z[winu!=0])-paralambda)\n",
    "        #Bu[i] = np.sum((X - np.outer(uc,v1))**2)/sigsq + (i+1)*np.log(n*d) #this works best\n",
    "        acc = np.zeros(len(v1))\n",
    "        acccum = 0\n",
    "        for j in range(len(uc)):\n",
    "            for k in range(len(v1)):\n",
    "                acc[k] = acc[k] + (X[j][k] - (uc[j]*v1[k]))**2\n",
    "        for c in range(len(v1)):\n",
    "            acccum += acc[c]\n",
    "        Bu[i] = acccum/sigsq + (i+1)*np.log(n*d)\n",
    "    return Bu"
   ]
  },
  {
   "cell_type": "code",
   "execution_count": 5,
   "metadata": {
    "collapsed": true,
    "deletable": true,
    "editable": true
   },
   "outputs": [],
   "source": [
    "@jit(nopython=True)\n",
    "def updateV(Bv,tmpI,n,d,rv,tv,winv,z,u0,X,sigsq):\n",
    "    for i in range(0,rv):\n",
    "        lvc = tv[tmpI[i]]\n",
    "        paralambda = lvc/winv[winv!=0]\n",
    "        \n",
    "        tmp= np.multiply(np.sign(z[winv!=0]), gt(np.abs(z[winv!=0]),paralambda))                         \n",
    "        vc = np.multiply(tmp, np.abs(z[winv!=0])-paralambda)\n",
    "        #Bv[i] = np.sum((X - np.outer(u0,vc))**2)/sigsq + (i+1)*np.log(n*d) #this works best\n",
    "        acc = np.zeros(len(vc))\n",
    "        acccum = 0\n",
    "        for j in range(len(u0)):\n",
    "            for k in range(len(vc)):\n",
    "                acc[k] = acc[k] + (X[j][k] - (u0[j]*vc[k]))**2\n",
    "        for c in range(len(vc)):\n",
    "            acccum += acc[c]\n",
    "        Bv[i] = acccum/sigsq + (i+1)*np.log(n*d)\n",
    "    return Bv"
   ]
  },
  {
   "cell_type": "code",
   "execution_count": 6,
   "metadata": {
    "collapsed": false,
    "deletable": true,
    "editable": true
   },
   "outputs": [],
   "source": [
    "def ssvd(X,param=None):\n",
    "    n, d = X.shape\n",
    "    threu = 1\n",
    "    threv = 1\n",
    "    gamu = 0\n",
    "    gamv = 0\n",
    "    t1, t2, t3 = np.linalg.svd(X)\n",
    "    t3 = t3.T\n",
    "    u0 = t1[:,0]\n",
    "    v0 = t3[:,0]\n",
    "    merr = 10**-4\n",
    "    niter = 100\n",
    "    ud = 1\n",
    "    vd = 1\n",
    "    iters = 0\n",
    "    SST = np.sum(X**2)\n",
    "    a = 3.7\n",
    "    while (ud > merr or vd > merr):\n",
    "        iters = iters + 1\n",
    "        z = np.matmul(X.T,u0)\n",
    "        winv = np.abs(z)**gamv\n",
    "        sigsq = (SST - np.sum(z**2))/(n*d-d)\n",
    "        tv = np.sort(np.append(np.abs(z**winv),0))\n",
    "        rv = np.sum(tv>0)\n",
    "        Bv = np.ones((d+1))*np.Inf\n",
    "        tmpI = np.arange(d-1,-1,-1)\n",
    "        Bv = updateV(Bv,tmpI,n,d,rv,tv,winv,z,u0,X,sigsq)\n",
    "        Iv = np.argmin(Bv) + 1\n",
    "        temp = np.sort(np.append(np.abs(np.multiply(z, winv)),0))\n",
    "        lv = temp[d-Iv]\n",
    "        paralambda = np.multiply(lv, winv[winv!=0])        \n",
    "        tmp= np.multiply(np.sign(z[winv!=0]),gt(np.abs(z[winv!=0]),paralambda))  \n",
    "        v1 = np.multiply(tmp, np.abs(z[winv!=0])-paralambda)   \n",
    "        v1 = v1/np.sqrt(np.sum(v1**2)) #v_new\n",
    "        z = np.matmul(X, v1)\n",
    "        winu = np.abs(z)**gamu\n",
    "        sigsq = (SST - np.sum(z**2))/(n*d-n)\n",
    "        tu = np.sort(np.append(np.abs(np.multiply(z, winu)),0))\n",
    "        ru = np.sum((tu>0).astype('int'))\n",
    "        Bu = np.ones((n+1))*np.Inf\n",
    "        tmpI = np.arange(n-1,-1,-1)\n",
    "        Bu = updateU(Bu,tmpI,n,d,ru,tu,winu,z,X,v1,sigsq)\n",
    "        Iu = np.argmin(Bu)+1\n",
    "        temp = np.sort(np.append(np.abs(np.multiply(z, winu)),0))\n",
    "        lu = temp[n-Iu]\n",
    "        paralambda = lu/winu[winu!=0]        \n",
    "        tmp= np.multiply(np.sign(z[winu!=0]),gt(np.abs(z[winu!=0]),paralambda))  \n",
    "        u1 = np.multiply(tmp, np.abs(z[winu!=0])-paralambda)    \n",
    "        u1 = u1/np.sqrt(np.sum(u1**2)) #u_new\n",
    "        ud = np.sqrt(np.sum((u0-u1)**2))\n",
    "        vd = np.sqrt(np.sum((v0-v1)**2)) \n",
    "        if iters > niter:\n",
    "            print('Fail to converge! Increase the niter!')\n",
    "            break\n",
    "        u0 = u1\n",
    "        v0 = v1\n",
    "    u = u1\n",
    "    v = v1\n",
    "    return u,v,iters"
   ]
  },
  {
   "cell_type": "code",
   "execution_count": 7,
   "metadata": {
    "collapsed": false,
    "deletable": true,
    "editable": true
   },
   "outputs": [],
   "source": [
    "[u,v,iters] = ssvd(X)"
   ]
  },
  {
   "cell_type": "code",
   "execution_count": null,
   "metadata": {
    "collapsed": false,
    "deletable": true,
    "editable": true
   },
   "outputs": [
    {
     "name": "stdout",
     "output_type": "stream",
     "text": [
      "1 loop, best of 1: 39.4 s per loop\n"
     ]
    }
   ],
   "source": [
    "%timeit -r1 -n1 [u,v,iters] = ssvd(X)"
   ]
  },
  {
   "cell_type": "markdown",
   "metadata": {
    "deletable": true,
    "editable": true
   },
   "source": [
    "# What functions are taking the longest?"
   ]
  },
  {
   "cell_type": "code",
   "execution_count": null,
   "metadata": {
    "collapsed": false,
    "deletable": true,
    "editable": true
   },
   "outputs": [],
   "source": [
    "%lprun -s -f ssvd -T ssvd_results.txt ssvd(X)\n",
    "%cat ssvd_results.txt"
   ]
  },
  {
   "cell_type": "markdown",
   "metadata": {},
   "source": [
    "# Now let's apply this on Amanda's Monkey Data:"
   ]
  },
  {
   "cell_type": "code",
   "execution_count": null,
   "metadata": {
    "collapsed": false
   },
   "outputs": [],
   "source": [
    "monkeydata = pd.read_csv('flatten_trial_all.csv')\n",
    "monkeydata.head()"
   ]
  },
  {
   "cell_type": "code",
   "execution_count": null,
   "metadata": {
    "collapsed": false
   },
   "outputs": [],
   "source": [
    "monkeydf = monkeydata[['stim','unit','count']]\n",
    "monkeydf.head()"
   ]
  },
  {
   "cell_type": "code",
   "execution_count": null,
   "metadata": {
    "collapsed": false
   },
   "outputs": [],
   "source": [
    "df = monkeydf.groupby(['stim','unit']).mean() #we want the average spiking in each cell\n",
    "df = df.unstack(level=0)\n",
    "#df = df.fillna(0)\n",
    "df"
   ]
  },
  {
   "cell_type": "code",
   "execution_count": null,
   "metadata": {
    "collapsed": false
   },
   "outputs": [],
   "source": [
    "%matplotlib inline\n",
    "plt.figure(figsize=(10,10))\n",
    "plt.imshow(df)\n",
    "plt.colorbar()\n",
    "pass"
   ]
  },
  {
   "cell_type": "code",
   "execution_count": null,
   "metadata": {
    "collapsed": true
   },
   "outputs": [],
   "source": [
    "df = df.dropna()"
   ]
  },
  {
   "cell_type": "code",
   "execution_count": null,
   "metadata": {
    "collapsed": false
   },
   "outputs": [],
   "source": [
    "df"
   ]
  },
  {
   "cell_type": "code",
   "execution_count": null,
   "metadata": {
    "collapsed": true
   },
   "outputs": [],
   "source": []
  }
 ],
 "metadata": {
  "kernelspec": {
   "display_name": "Python 3",
   "language": "python",
   "name": "python3"
  },
  "language_info": {
   "codemirror_mode": {
    "name": "ipython",
    "version": 3
   },
   "file_extension": ".py",
   "mimetype": "text/x-python",
   "name": "python",
   "nbconvert_exporter": "python",
   "pygments_lexer": "ipython3",
   "version": "3.6.0"
  }
 },
 "nbformat": 4,
 "nbformat_minor": 2
}
